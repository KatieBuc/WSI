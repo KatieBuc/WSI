{
 "cells": [
  {
   "cell_type": "code",
   "execution_count": null,
   "id": "b670daba",
   "metadata": {},
   "outputs": [],
   "source": [
    "import numpy as np\n",
    "import pandas as pd\n",
    "\n",
    "from wsi.utils import raw_data_path, processed_data_path\n",
    "\n",
    "safety_index = pd.read_csv(processed_data_path('womens_safety_index_baseline.csv')).dropna(subset=\"Women's Safety Index\") # ?? dont look at countries with no index\n",
    "disaster_df = pd.read_csv(processed_data_path('shock', 'death_disasters.csv'), index_col=0).rename(columns={'Total Deaths (%)':'Disaster Deaths','Total Affected (%)':'Disaster Affected'})"
   ]
  },
  {
   "cell_type": "code",
   "execution_count": null,
   "id": "6d5f4c6a",
   "metadata": {},
   "outputs": [],
   "source": [
    "# TODO: for each iso...\n",
    "conflict_df = pd.read_csv(processed_data_path('conflict_summary{iso}.csv')).rename(columns={'iso3':'ISO_code', 'percent': 'Conflict Population', 'year': 'Year'})"
   ]
  },
  {
   "cell_type": "markdown",
   "id": "633c70a5",
   "metadata": {},
   "source": [
    "# missing data for conflict"
   ]
  },
  {
   "cell_type": "code",
   "execution_count": null,
   "id": "40d2cb94",
   "metadata": {},
   "outputs": [],
   "source": [
    "# Unique ISO_codes in safety_index\n",
    "safety_iso = set(safety_index['ISO_code'].unique())\n",
    "\n",
    "# ISO_codes present in conflict_df and disaster_df (dropping NaNs)\n",
    "conflict_iso = set(conflict_df['ISO_code'].dropna().unique())\n",
    "disaster_iso = set(disaster_df['ISO_code'].dropna().unique())\n",
    "\n",
    "# Find ISO_codes that are in safety_index but not in conflict_df\n",
    "no_conflict = safety_iso - conflict_iso\n",
    "\n",
    "# Find ISO_codes that are in safety_index but not in disaster_df\n",
    "no_disaster = safety_iso - disaster_iso\n",
    "\n",
    "# Get the union of both sets: ISO_codes with no conflict data or no disaster data\n",
    "result = no_conflict.union(no_disaster)\n",
    "\n",
    "print(result)\n"
   ]
  },
  {
   "cell_type": "markdown",
   "id": "fc521a35",
   "metadata": {},
   "source": [
    "# Combine: create shock indicator"
   ]
  },
  {
   "cell_type": "code",
   "execution_count": null,
   "id": "1ed960f5",
   "metadata": {},
   "outputs": [],
   "source": [
    "import pandas as pd\n",
    "import matplotlib.pyplot as plt\n",
    "\n",
    "# merge\n",
    "# TODO: change so we know data missingness\n",
    "merged_df = conflict_df.merge(disaster_df, on=['ISO_code', 'Year'], how='inner')\n",
    "\n",
    "# normalise\n",
    "cols_to_normalize = ['Conflict Population', 'Disaster Deaths', 'Disaster Affected']\n",
    "for col in cols_to_normalize:\n",
    "    min_val = merged_df[col].min()\n",
    "    max_val = merged_df[col].max()\n",
    "    merged_df[col + ' (score)'] = (merged_df[col] - min_val) / (max_val - min_val)\n",
    "    \n",
    "merged_df['Shocks_raw'] = merged_df[[col + ' (score)' for col in cols_to_normalize]].mean(axis=1)\n",
    "shock_df = merged_df\n",
    "shock_df.sort_values(by=['ISO_code', 'Year'], inplace=True)\n",
    "\n",
    "# EWMA\n",
    "shock_df['Shocks'] = shock_df.groupby('ISO_code')['Shocks_raw'] \\\n",
    "                                  .transform(lambda x: x.ewm(span=5, adjust=False).mean())\n",
    "\n",
    "# filter\n",
    "shock_df = shock_df[['ISO_code', 'Year', 'Conflict Population', 'Disaster Deaths', 'Disaster Affected',\n",
    "       'Conflict Population (score)', 'Disaster Deaths (score)',\n",
    "       'Disaster Affected (score)', 'Shocks']]\n",
    "\n",
    "final_df = safety_index.merge(shock_df, on=['ISO_code', 'Year'], how='left')"
   ]
  },
  {
   "cell_type": "markdown",
   "id": "5b9b22fc",
   "metadata": {},
   "source": [
    "# WSI minus shocks"
   ]
  },
  {
   "cell_type": "code",
   "execution_count": null,
   "id": "bf74e2dc",
   "metadata": {},
   "outputs": [],
   "source": [
    "alpha = 0.5\n",
    "final_df['WSI'] = final_df[\"WSI (Baseline)\"] - alpha * final_df['Shocks']\n",
    "final_df['WSI'] = final_df['WSI'].clip(lower=0)\n",
    "\n",
    "final_df.to_csv(processed_data_path('womens_safety_index.csv'))"
   ]
  },
  {
   "cell_type": "code",
   "execution_count": null,
   "id": "71c6682b",
   "metadata": {},
   "outputs": [],
   "source": []
  },
  {
   "cell_type": "code",
   "execution_count": null,
   "id": "6a1108b6",
   "metadata": {},
   "outputs": [],
   "source": []
  }
 ],
 "metadata": {
  "language_info": {
   "name": "python"
  }
 },
 "nbformat": 4,
 "nbformat_minor": 5
}
