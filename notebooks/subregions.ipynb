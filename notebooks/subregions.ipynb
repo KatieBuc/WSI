{
 "cells": [
  {
   "cell_type": "code",
   "execution_count": null,
   "id": "68937031",
   "metadata": {},
   "outputs": [],
   "source": [
    "from wsi.mapping.iso_region import CODE_SUBREGION\n"
   ]
  },
  {
   "cell_type": "code",
   "execution_count": null,
   "id": "7d974a8e",
   "metadata": {},
   "outputs": [],
   "source": [
    "# see what subregions look like"
   ]
  },
  {
   "cell_type": "code",
   "execution_count": null,
   "id": "0adac71a",
   "metadata": {},
   "outputs": [],
   "source": []
  }
 ],
 "metadata": {
  "language_info": {
   "name": "python"
  }
 },
 "nbformat": 4,
 "nbformat_minor": 5
}
