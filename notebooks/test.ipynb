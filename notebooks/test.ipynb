{
 "cells": [
  {
   "cell_type": "code",
   "execution_count": 1,
   "id": "c685dc26",
   "metadata": {},
   "outputs": [],
   "source": [
    "from wsi.indicators.education import build_education_df\n",
    "from wsi.indicators.employment import build_employment_df\n",
    "\n",
    "edu_world = build_education_df()"
   ]
  },
  {
   "cell_type": "code",
   "execution_count": 5,
   "id": "18112948",
   "metadata": {},
   "outputs": [
    {
     "data": {
      "text/plain": [
       "np.int64(2023)"
      ]
     },
     "execution_count": 5,
     "metadata": {},
     "output_type": "execute_result"
    }
   ],
   "source": [
    "edu_world\n",
    "edu_world['Year'].max()"
   ]
  },
  {
   "cell_type": "code",
   "execution_count": null,
   "id": "4fbc9ed2",
   "metadata": {},
   "outputs": [
    {
     "data": {
      "text/html": [
       "<div>\n",
       "<style scoped>\n",
       "    .dataframe tbody tr th:only-of-type {\n",
       "        vertical-align: middle;\n",
       "    }\n",
       "\n",
       "    .dataframe tbody tr th {\n",
       "        vertical-align: top;\n",
       "    }\n",
       "\n",
       "    .dataframe thead th {\n",
       "        text-align: right;\n",
       "    }\n",
       "</style>\n",
       "<table border=\"1\" class=\"dataframe\">\n",
       "  <thead>\n",
       "    <tr style=\"text-align: right;\">\n",
       "      <th></th>\n",
       "      <th>ISO_code</th>\n",
       "      <th>Year</th>\n",
       "      <th>Employment</th>\n",
       "    </tr>\n",
       "  </thead>\n",
       "  <tbody>\n",
       "    <tr>\n",
       "      <th>0</th>\n",
       "      <td>ABW</td>\n",
       "      <td>2011</td>\n",
       "      <td>69.688359</td>\n",
       "    </tr>\n",
       "    <tr>\n",
       "      <th>1</th>\n",
       "      <td>AFG</td>\n",
       "      <td>2008</td>\n",
       "      <td>48.240352</td>\n",
       "    </tr>\n",
       "    <tr>\n",
       "      <th>2</th>\n",
       "      <td>AFG</td>\n",
       "      <td>2012</td>\n",
       "      <td>16.858257</td>\n",
       "    </tr>\n",
       "    <tr>\n",
       "      <th>3</th>\n",
       "      <td>AFG</td>\n",
       "      <td>2014</td>\n",
       "      <td>22.798185</td>\n",
       "    </tr>\n",
       "    <tr>\n",
       "      <th>4</th>\n",
       "      <td>AFG</td>\n",
       "      <td>2017</td>\n",
       "      <td>20.883585</td>\n",
       "    </tr>\n",
       "    <tr>\n",
       "      <th>...</th>\n",
       "      <td>...</td>\n",
       "      <td>...</td>\n",
       "      <td>...</td>\n",
       "    </tr>\n",
       "    <tr>\n",
       "      <th>2885</th>\n",
       "      <td>ZWE</td>\n",
       "      <td>2014</td>\n",
       "      <td>82.014813</td>\n",
       "    </tr>\n",
       "    <tr>\n",
       "      <th>2886</th>\n",
       "      <td>ZWE</td>\n",
       "      <td>2019</td>\n",
       "      <td>68.255373</td>\n",
       "    </tr>\n",
       "    <tr>\n",
       "      <th>2887</th>\n",
       "      <td>ZWE</td>\n",
       "      <td>2021</td>\n",
       "      <td>64.499665</td>\n",
       "    </tr>\n",
       "    <tr>\n",
       "      <th>2888</th>\n",
       "      <td>ZWE</td>\n",
       "      <td>2022</td>\n",
       "      <td>63.862897</td>\n",
       "    </tr>\n",
       "    <tr>\n",
       "      <th>2889</th>\n",
       "      <td>ZWE</td>\n",
       "      <td>2023</td>\n",
       "      <td>65.737269</td>\n",
       "    </tr>\n",
       "  </tbody>\n",
       "</table>\n",
       "<p>2890 rows × 3 columns</p>\n",
       "</div>"
      ],
      "text/plain": [
       "     ISO_code  Year  Employment\n",
       "0         ABW  2011   69.688359\n",
       "1         AFG  2008   48.240352\n",
       "2         AFG  2012   16.858257\n",
       "3         AFG  2014   22.798185\n",
       "4         AFG  2017   20.883585\n",
       "...       ...   ...         ...\n",
       "2885      ZWE  2014   82.014813\n",
       "2886      ZWE  2019   68.255373\n",
       "2887      ZWE  2021   64.499665\n",
       "2888      ZWE  2022   63.862897\n",
       "2889      ZWE  2023   65.737269\n",
       "\n",
       "[2890 rows x 3 columns]"
      ]
     },
     "execution_count": 3,
     "metadata": {},
     "output_type": "execute_result"
    }
   ],
   "source": [
    "emp_world = build_employment_df()\n",
    "emp_world"
   ]
  },
  {
   "cell_type": "code",
   "execution_count": 4,
   "id": "d00bf3af",
   "metadata": {},
   "outputs": [
    {
     "data": {
      "text/plain": [
       "np.int64(2024)"
      ]
     },
     "execution_count": 4,
     "metadata": {},
     "output_type": "execute_result"
    }
   ],
   "source": [
    "emp_world['Year'].max()"
   ]
  },
  {
   "cell_type": "code",
   "execution_count": null,
   "id": "9d20fa63",
   "metadata": {},
   "outputs": [],
   "source": []
  }
 ],
 "metadata": {
  "kernelspec": {
   "display_name": "Python 3",
   "language": "python",
   "name": "python3"
  },
  "language_info": {
   "codemirror_mode": {
    "name": "ipython",
    "version": 3
   },
   "file_extension": ".py",
   "mimetype": "text/x-python",
   "name": "python",
   "nbconvert_exporter": "python",
   "pygments_lexer": "ipython3",
   "version": "3.12.7"
  }
 },
 "nbformat": 4,
 "nbformat_minor": 5
}
