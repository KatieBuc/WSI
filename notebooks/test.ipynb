{
 "cells": [
  {
   "cell_type": "code",
   "execution_count": null,
   "id": "c685dc26",
   "metadata": {},
   "outputs": [],
   "source": [
    "import pandas as pd\n",
    "import numpy as np\n",
    "\n",
    "pd.set_option(\"future.no_silent_downcasting\", True)\n",
    "\n",
    "from wsi.indicators.education import build_education_df\n",
    "from wsi.indicators.employment import build_employment_df\n",
    "from wsi.indicators.parliament import build_parliamentary_df\n",
    "from wsi.indicators.poverty import build_poverty_df\n",
    "from wsi.indicators.legal import build_legal_df\n",
    "from wsi.indicators.son_bias import build_son_bias_df\n",
    "from wsi.indicators.maternal_mortality import build_maternal_mortality_df\n",
    "from wsi.indicators.attitude_violence import build_attitudes_violence_df\n",
    "from wsi.indicators.child_marriage import build_child_marriage_df\n",
    "from wsi.indicators.water_sanitation import build_water_sanitation_df\n",
    "from wsi.indicators.electricity import build_access_electricity_df\n",
    "from wsi.indicators.financial_inclusion import build_financial_inclusion_df\n",
    "from wsi.indicators.phone_use import build_cell_phone_use_df\n",
    "\n",
    "from wsi.config import INDICATORS, EXCLUDE_ISO # we exclude certain ISO's from the index calculation due to lack of data\n",
    "from wsi.map_iso_name import ALL_ISO_NAME\n",
    "from wsi.map_iso_income import CODE_INCOME\n",
    "from wsi.map_iso_region import CODE_SUBREGION\n",
    "\n",
    "# Parameters\n",
    "years = list(range(1995, 2025))\n",
    "\n",
    "indicator_columns = [k for k, v in INDICATORS.items()]\n",
    "invert_columns = [k for k in indicator_columns if INDICATORS[k].get(\"invert\")]\n",
    "\n",
    "indicator_builders = {\n",
    "    'Education': build_education_df,\n",
    "    'Employment': build_employment_df,\n",
    "    'Parliamentary Representation': build_parliamentary_df,\n",
    "    'Poverty': build_poverty_df,\n",
    "    'Legal Protection Index': build_legal_df,\n",
    "    'Son Bias': build_son_bias_df,\n",
    "    'Maternal Mortality': build_maternal_mortality_df,\n",
    "    'Attitudes Towards Violence': build_attitudes_violence_df,\n",
    "    'Child Marriage': build_child_marriage_df,\n",
    "    'Access Water Sanitation': build_water_sanitation_df,\n",
    "    'Access Electricity': build_access_electricity_df,\n",
    "    'Financial Inclusion': build_financial_inclusion_df,\n",
    "    \"Cell Phone Use\": build_cell_phone_use_df,\n",
    "}\n"
   ]
  },
  {
   "cell_type": "markdown",
   "id": "f4221c22",
   "metadata": {},
   "source": [
    "\"\"\"\n",
    "Indicator Processing Pipeline:\n",
    "\n",
    "For each indicator:\n",
    "1. Create a full DataFrame of all ISO codes and years.\n",
    "2. Merge the indicator data into this full structure and sort by ISO and Year.\n",
    "3. Fill missing values per country using:\n",
    "   - Linear interpolation\n",
    "   - Forward and backward fill\n",
    "   - Track all filled values with a corresponding source column.\n",
    "4. Compute region and income group averages from the filled data.\n",
    "5. For countries with entirely missing data for an indicator:\n",
    "   - Fill using the appropriate average (region or income), based on config.\n",
    "   - Mark these with the appropriate source tag (e.g., 'AVG_REG' or 'AVG_INC').\n",
    "\"\"\"\n"
   ]
  },
  {
   "cell_type": "code",
   "execution_count": null,
   "id": "1f48b43c",
   "metadata": {},
   "outputs": [],
   "source": [
    "from wsi.utils import processed_data_path"
   ]
  },
  {
   "cell_type": "code",
   "execution_count": null,
   "id": "9dd495b7",
   "metadata": {},
   "outputs": [],
   "source": [
    "\n",
    "# Initialise main DataFrame, establishes order\n",
    "df_raw = pd.DataFrame(\n",
    "    [(iso, year) for iso in ALL_ISO_NAME for year in years],\n",
    "    columns=[\"ISO_code\", \"Year\"]\n",
    ")\n",
    "\n",
    "# Merge each indicator and handle filling\n",
    "for ind in indicator_columns:\n",
    "    indicator_df = indicator_builders[ind]()\n",
    "    df_raw = df_raw.merge(indicator_df, on=['ISO_code', 'Year'], how='left')\n",
    "\n",
    "\n",
    "output_path = processed_data_path(\"raw_baseline_indicators.csv\")\n",
    "df_raw.to_csv(output_path, index=False)\n"
   ]
  },
  {
   "cell_type": "code",
   "execution_count": null,
   "id": "8c1fe8c6",
   "metadata": {},
   "outputs": [],
   "source": [
    "missing_summary = []\n",
    "\n",
    "for iso, group in df_raw.groupby('ISO_code'):\n",
    "    missing_indicators = [col for col in indicator_columns if group[col].isna().all()]\n",
    "    if missing_indicators:\n",
    "        missing_summary.append({\n",
    "            'ISO_code': iso,\n",
    "            'Country': ALL_ISO_NAME.get(iso, \"Unknown\"),\n",
    "            'Missing_Count': len(missing_indicators),\n",
    "            'Indicators': ', '.join(missing_indicators)\n",
    "        })\n",
    "\n",
    "# Step 3: Create summary DataFrame\n",
    "summary = pd.DataFrame(missing_summary)\n",
    "\n",
    "# Step 4: Sort by number of missing indicators\n",
    "summary = summary.sort_values(by='Missing_Count', ascending=False).reset_index(drop=True)\n",
    "\n",
    "# Step 5: Save to CSV\n",
    "output_path = processed_data_path(\"missing_indicators_summary.csv\")\n",
    "summary.to_csv(output_path, index=False)"
   ]
  },
  {
   "cell_type": "code",
   "execution_count": null,
   "id": "cc74d6c4",
   "metadata": {},
   "outputs": [],
   "source": [
    "# Partition into included and excluded (for the index calculation) based on ISO code\n",
    "df = df_raw[~df_raw[\"ISO_code\"].isin(EXCLUDE_ISO)].copy()\n",
    "df_excluded = df_raw[df_raw[\"ISO_code\"].isin(EXCLUDE_ISO)].copy()\n",
    "\n",
    "# Add source tracking columns\n",
    "for ind in indicator_columns:\n",
    "    df[f\"{ind} (source)\"] = ''\n",
    "    df.loc[df[ind].notna(), f\"{ind} (source)\"] = 'ORI'\n",
    "\n",
    "# Fill missing values per country with interpolation + ffill/bfill\n",
    "def fill_missing(group):\n",
    "    for ind in indicator_columns:\n",
    "        group[ind] = pd.to_numeric(group[ind], errors='coerce')\n",
    "        before = group[ind].isnull()\n",
    "        group[ind] = group[ind].interpolate(limit_direction='both')\n",
    "        after_interp = before & group[ind].notnull()\n",
    "        group.loc[after_interp, f\"{ind} (source)\"] = 'TSI'\n",
    "        group[ind] = group[ind].ffill().bfill()\n",
    "        after_fill = before & group[ind].notnull()\n",
    "        group.loc[after_fill, f\"{ind} (source)\"] = 'TSI'\n",
    "    return group\n",
    "\n",
    "df = df.groupby('ISO_code').apply(fill_missing).reset_index(drop=True)"
   ]
  },
  {
   "cell_type": "code",
   "execution_count": null,
   "id": "9067189e",
   "metadata": {},
   "outputs": [],
   "source": [
    "df['Region'] = df['ISO_code'].map(CODE_SUBREGION)\n",
    "df['Income'] = df['ISO_code'].map(CODE_INCOME)\n",
    "\n",
    "# Region and income averages\n",
    "region_avgs = df.groupby(['Region', 'Year'])[indicator_columns].mean()\n",
    "income_avgs = df.groupby(['Income', 'Year'])[indicator_columns].mean()\n",
    "\n",
    "# Fill entirely missing countries with region or income averages\n",
    "for ind in indicator_columns:\n",
    "    missing = df.groupby('ISO_code')[ind].apply(lambda x: x.isna().all())\n",
    "    fill_strategy = INDICATORS[ind][\"fill\"]\n",
    "\n",
    "    for iso in missing[missing].index:\n",
    "        if fill_strategy == \"income_avg\":\n",
    "            group = CODE_INCOME.get(iso)\n",
    "            if group and (group, years[0]) in income_avgs.index:\n",
    "                fill_vals = income_avgs.loc[group]\n",
    "                df.loc[df['ISO_code'] == iso, ind] = fill_vals[ind].values\n",
    "                df.loc[df['ISO_code'] == iso, f\"{ind} (source)\"] = 'AVG_INC'\n",
    "\n",
    "        elif fill_strategy == \"region_avg\":\n",
    "            group = CODE_SUBREGION.get(iso)\n",
    "            if group and (group, years[0]) in region_avgs.index:\n",
    "                fill_vals = region_avgs.loc[group]\n",
    "                df.loc[df['ISO_code'] == iso, ind] = fill_vals[ind].values\n",
    "                df.loc[df['ISO_code'] == iso, f\"{ind} (source)\"] = 'AVG_REG'"
   ]
  },
  {
   "cell_type": "code",
   "execution_count": null,
   "id": "c0700dfa",
   "metadata": {},
   "outputs": [],
   "source": [
    "df"
   ]
  },
  {
   "cell_type": "code",
   "execution_count": null,
   "id": "33789d8f",
   "metadata": {},
   "outputs": [],
   "source": [
    "# TODO: make special excetios for this missingness\n",
    "\n",
    "# Identify missing values for each indicator\n",
    "indicator_columns = [col for col in df.columns if col in INDICATORS]\n",
    "\n",
    "missing_records = []\n",
    "\n",
    "for col in indicator_columns:\n",
    "    missing_rows = df[df[col].isnull()][['ISO_code']].copy()\n",
    "    if not missing_rows.empty:\n",
    "        missing_rows['Indicator'] = col\n",
    "        missing_records.append(missing_rows)\n",
    "\n",
    "# Combine and drop duplicates\n",
    "if missing_records:\n",
    "    all_missing = pd.concat(missing_records)\n",
    "    unique_missing = all_missing.drop_duplicates()\n",
    "    print(unique_missing)\n",
    "else:\n",
    "    print(\"No missing values found.\")\n"
   ]
  },
  {
   "cell_type": "code",
   "execution_count": null,
   "id": "798dcb20",
   "metadata": {},
   "outputs": [],
   "source": [
    "\"\"\"\n",
    "use dimension mapping\n",
    "normalise and aggregate, invert and get dimension score\n",
    "calc WSI baseline (some are excluded)\n",
    "\"\"\"\n"
   ]
  },
  {
   "cell_type": "code",
   "execution_count": null,
   "id": "130c38bc",
   "metadata": {},
   "outputs": [],
   "source": [
    "# replicate graph"
   ]
  },
  {
   "cell_type": "code",
   "execution_count": null,
   "id": "84f45ebb",
   "metadata": {},
   "outputs": [],
   "source": []
  },
  {
   "cell_type": "code",
   "execution_count": null,
   "id": "e5b83a01",
   "metadata": {},
   "outputs": [],
   "source": []
  },
  {
   "cell_type": "code",
   "execution_count": null,
   "id": "5ae54ef0",
   "metadata": {},
   "outputs": [],
   "source": [
    "# shocks metric (refactor; check 2024 values)\n",
    "\n",
    "# recreate all graphs"
   ]
  },
  {
   "cell_type": "code",
   "execution_count": null,
   "id": "099a708c",
   "metadata": {},
   "outputs": [],
   "source": [
    "# website graphs for 'explore by ...', see https://flourish.studio/ for example"
   ]
  },
  {
   "cell_type": "code",
   "execution_count": null,
   "id": "d80f9940",
   "metadata": {},
   "outputs": [],
   "source": []
  },
  {
   "cell_type": "code",
   "execution_count": null,
   "id": "149d00c9",
   "metadata": {},
   "outputs": [],
   "source": []
  },
  {
   "cell_type": "code",
   "execution_count": null,
   "id": "1dbbfb80",
   "metadata": {},
   "outputs": [],
   "source": []
  }
 ],
 "metadata": {
  "kernelspec": {
   "display_name": "Python 3",
   "language": "python",
   "name": "python3"
  },
  "language_info": {
   "codemirror_mode": {
    "name": "ipython",
    "version": 3
   },
   "file_extension": ".py",
   "mimetype": "text/x-python",
   "name": "python",
   "nbconvert_exporter": "python",
   "pygments_lexer": "ipython3",
   "version": "3.12.7"
  }
 },
 "nbformat": 4,
 "nbformat_minor": 5
}
